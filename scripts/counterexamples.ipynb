{
 "cells": [
  {
   "cell_type": "code",
   "execution_count": 1,
   "metadata": {},
   "outputs": [],
   "source": [
    "%load_ext autoreload\n",
    "%autoreload 2"
   ]
  },
  {
   "cell_type": "code",
   "execution_count": 2,
   "metadata": {},
   "outputs": [],
   "source": [
    "import matplotlib.pyplot as plt\n",
    "import seaborn as sns\n",
    "sns.set()"
   ]
  },
  {
   "cell_type": "code",
   "execution_count": 3,
   "metadata": {},
   "outputs": [
    {
     "name": "stdout",
     "output_type": "stream",
     "text": [
      "\n",
      "WARNING: The TensorFlow contrib module will not be included in TensorFlow 2.0.\n",
      "For more information, please see:\n",
      "  * https://github.com/tensorflow/community/blob/master/rfcs/20180907-contrib-sunset.md\n",
      "  * https://github.com/tensorflow/addons\n",
      "If you depend on functionality not listed there, please file an issue.\n",
      "\n"
     ]
    }
   ],
   "source": [
    "import numpy as np\n",
    "import scipy\n",
    "\n",
    "import influence.logistic_regression\n",
    "import experiments\n",
    "import experiments.counterexamples\n",
    "from experiments.plot import *\n",
    "\n",
    "from datasets.common import DataSet"
   ]
  },
  {
   "cell_type": "code",
   "execution_count": 702,
   "metadata": {},
   "outputs": [],
   "source": [
    "def plot_newton_pred(ax, test_idx, subset_subset=None):\n",
    "    pred = E.R['cex_subset_test_pred_margin_infl'][:, test_idx]\n",
    "    newton = E.R['cex_subset_test_newton_pred_margin_infl'][:, test_idx]\n",
    "    if subset_subset is not None:\n",
    "        pred = pred[subset_subset]\n",
    "        newton = newton[subset_subset]\n",
    "    plot_influence_correlation(ax, pred.reshape(-1), newton.reshape(-1),\n",
    "                               xlabel='',\n",
    "                               ylabel='',\n",
    "                               title=E.R['cex_tags'][test_idx] + ' N/P',\n",
    "                               spearmanr=False)"
   ]
  },
  {
   "cell_type": "code",
   "execution_count": 620,
   "metadata": {},
   "outputs": [],
   "source": [
    "subset_subset = None"
   ]
  },
  {
   "cell_type": "code",
   "execution_count": 548,
   "metadata": {},
   "outputs": [],
   "source": [
    "subset_subset = E.R['cex_lstsq_uv_K-100_subsets']"
   ]
  },
  {
   "cell_type": "code",
   "execution_count": 592,
   "metadata": {},
   "outputs": [
    {
     "name": "stdout",
     "output_type": "stream",
     "text": [
      "(767, u'lstsq_uv_K-33_gauss')\n"
     ]
    }
   ],
   "source": [
    "test_idx = np.random.choice(num_test)\n",
    "test_tag = E.R['cex_tags'][test_idx]\n",
    "print(test_idx, test_tag)"
   ]
  },
  {
   "cell_type": "code",
   "execution_count": 714,
   "metadata": {
    "scrolled": false
   },
   "outputs": [
    {
     "name": "stdout",
     "output_type": "stream",
     "text": [
      "Loading phase 0-generate_datasets from previous run:\n",
      "/u/nlp/influence/output/counterexamples/ortho2/result_0-generate_datasets.npz\n",
      "Loading phase 1-training from previous run:\n",
      "/u/nlp/influence/output/counterexamples/ortho2/result_1-training.npz\n",
      "Loading phase 2-pick_subsets from previous run:\n",
      "/u/nlp/influence/output/counterexamples/ortho2/result_2-pick_subsets.npz\n",
      "Loading phase 3-retrain_and_newton from previous run:\n",
      "/u/nlp/influence/output/counterexamples/ortho2/result_3-retrain_and_newton.npz\n",
      "Loading phase 4-find_adversarial_test from previous run:\n",
      "/u/nlp/influence/output/counterexamples/ortho2/result_4-find_adversarial_test.npz\n",
      "Loading phase 5-compute_test_infl from previous run:\n",
      "/u/nlp/influence/output/counterexamples/ortho2/result_5-compute_test_infl.npz\n",
      "Experiment counterexamples: run ortho2 results loaded in 0.0559689998627 seconds.\n",
      "\n",
      "(1026, u'cex_one')\n"
     ]
    },
    {
     "data": {
      "image/png": "[encoded data removed]",
      "text/plain": [
       "<Figure size 576x576 with 1 Axes>"
      ]
     },
     "metadata": {
      "needs_background": "light"
     },
     "output_type": "display_data"
    }
   ],
   "source": [
    "out_dir = '/u/nlp/influence/output/'\n",
    "E = experiments.counterexamples.Counterexamples.load_run('ortho2', out_dir=out_dir)\n",
    "\n",
    "#test_idx = np.nonzero(E.R['cex_tags'] == 'lstsq_uv_K-100_gauss')[0][0]\n",
    "test_idx = np.nonzero(E.R['cex_tags'] == 'cex_one')[0][0]\n",
    "#test_idx = 40\n",
    "test_tag = E.R['cex_tags'][test_idx]\n",
    "print(test_idx, test_tag)\n",
    "\n",
    "num_test = E.R['cex_X'].shape[0]\n",
    "R, C = 1, 1\n",
    "fig, ax = plt.subplots(R, C, figsize=(8, 8), squeeze=False)\n",
    "for r in range(R):\n",
    "    for c in range(C):\n",
    "        o = r * C + c\n",
    "        if test_idx + o >= num_test: continue\n",
    "        plot_newton_pred(ax[r][c], test_idx + o, subset_subset)"
   ]
  },
  {
   "cell_type": "code",
   "execution_count": 325,
   "metadata": {},
   "outputs": [],
   "source": [
    "test_idx = 426\n",
    "pred = E.R['cex_subset_test_pred_margin_infl'][:, test_idx]\n",
    "newton = E.R['cex_subset_test_nparam_margin_infl'][:, test_idx]\n",
    "which = newton > 0.70"
   ]
  },
  {
   "cell_type": "code",
   "execution_count": 414,
   "metadata": {},
   "outputs": [],
   "source": [
    "subset_cos_dparam = E.R['subset_cos_dparam']\n",
    "subset_pred_dparam = E.R['subset_pred_dparam']\n",
    "subset_newton_pred_dparam = E.R['subset_newton_pred_dparam']\n",
    "cos_indices = np.argsort(subset_cos_dparam)"
   ]
  }
 ],
 "metadata": {
  "kernelspec": {
   "display_name": "Python 2",
   "language": "python",
   "name": "python2"
  },
  "language_info": {
   "codemirror_mode": {
    "name": "ipython",
    "version": 2
   },
   "file_extension": ".py",
   "mimetype": "text/x-python",
   "name": "python",
   "nbconvert_exporter": "python",
   "pygments_lexer": "ipython2",
   "version": "2.7.12"
  }
 },
 "nbformat": 4,
 "nbformat_minor": 2
}
